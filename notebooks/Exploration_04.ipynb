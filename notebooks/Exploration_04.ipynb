{
  "cells": [
    {
      "cell_type": "markdown",
      "metadata": {
        "id": "view-in-github",
        "colab_type": "text"
      },
      "source": [
        "<a href=\"https://colab.research.google.com/github/mickeyrahm/Portfolio/blob/master/notebooks/Exploration_04.ipynb\" target=\"_parent\"><img src=\"https://colab.research.google.com/assets/colab-badge.svg\" alt=\"Open In Colab\"/></a>"
      ]
    },
    {
      "cell_type": "markdown",
      "metadata": {
        "id": "_HtJm0H1tqTm"
      },
      "source": [
        "# Data Exploration 04\n",
        "\n",
        "You're working with a team of botanists to develop a flower classification system.\n",
        "\n",
        "Your assignment is to build a k-Nearest Neighbors model to classify flowers based on their petal and sepal sizes."
      ]
    },
    {
      "cell_type": "markdown",
      "metadata": {
        "id": "s39MWdV8t6UB"
      },
      "source": [
        "## Part A: Import and Explore the data\n",
        "\n",
        "The dataset for this exploration is stored at the following url:\n",
        "\n",
        "[https://raw.githubusercontent.com/byui-cse/cse450-course/master/data/iris.csv](https://raw.githubusercontent.com/byui-cse/cse450-course/master/data/iris.csv)\n",
        "\n",
        "### Initial Data Analysis\n",
        "Once you've loaded the data, it's a good idea to poke around a little bit to find out what you're dealing with.\n",
        "\n",
        "Some questions you might ask include:\n",
        "\n",
        "* What does the data look like?\n",
        "* What kind of data is in each column?\n",
        "* Do any of the columns have missing values?"
      ]
    },
    {
      "cell_type": "code",
      "execution_count": 1,
      "metadata": {
        "id": "OIyOz1W-kvIR",
        "outputId": "8148dd71-73bf-404a-d4c8-0750ff6ccee6",
        "colab": {
          "base_uri": "https://localhost:8080/"
        }
      },
      "outputs": [
        {
          "output_type": "stream",
          "name": "stdout",
          "text": [
            "   sepal_length  sepal_width  petal_length  petal_width      species\n",
            "0           5.1          3.5           1.4          0.2  Iris-setosa\n",
            "1           4.9          3.0           1.4          0.2  Iris-setosa\n",
            "2           4.7          3.2           1.3          0.2  Iris-setosa\n",
            "3           4.6          3.1           1.5          0.2  Iris-setosa\n",
            "4           5.0          3.6           1.4          0.2  Iris-setosa\n",
            "<class 'pandas.core.frame.DataFrame'>\n",
            "RangeIndex: 150 entries, 0 to 149\n",
            "Data columns (total 5 columns):\n",
            " #   Column        Non-Null Count  Dtype  \n",
            "---  ------        --------------  -----  \n",
            " 0   sepal_length  150 non-null    float64\n",
            " 1   sepal_width   150 non-null    float64\n",
            " 2   petal_length  150 non-null    float64\n",
            " 3   petal_width   150 non-null    float64\n",
            " 4   species       150 non-null    object \n",
            "dtypes: float64(4), object(1)\n",
            "memory usage: 6.0+ KB\n",
            "None\n",
            "sepal_length    0\n",
            "sepal_width     0\n",
            "petal_length    0\n",
            "petal_width     0\n",
            "species         0\n",
            "dtype: int64\n"
          ]
        }
      ],
      "source": [
        "# prompt: insert the dataset\n",
        "\n",
        "import pandas as pd\n",
        "\n",
        "# Load the dataset\n",
        "url = \"https://raw.githubusercontent.com/byui-cse/cse450-course/master/data/iris.csv\"\n",
        "df = pd.read_csv(url)\n",
        "\n",
        "# Display the first few rows of the dataset\n",
        "print(df.head())\n",
        "\n",
        "# Get information about the dataset (data types, non-null values, etc.)\n",
        "print(df.info())\n",
        "\n",
        "# Check for missing values in each column\n",
        "print(df.isnull().sum())\n"
      ]
    },
    {
      "cell_type": "code",
      "execution_count": null,
      "metadata": {
        "id": "Osg2wpr0ul6R"
      },
      "outputs": [],
      "source": []
    },
    {
      "cell_type": "code",
      "execution_count": null,
      "metadata": {
        "id": "tPlZ1WmWunXB"
      },
      "outputs": [],
      "source": []
    },
    {
      "cell_type": "markdown",
      "metadata": {
        "id": "Yr4L8b3ourg-"
      },
      "source": [
        "## Part B: Visualize the Data\n",
        "\n",
        "Use your preferred visualization library to create a scatterplot showing petal length vs petal width. You should plot each flower species as a different color on the scatter plot."
      ]
    },
    {
      "cell_type": "code",
      "execution_count": 4,
      "metadata": {
        "id": "NcsmVzKllukC",
        "outputId": "75857d72-80cc-483f-dd4c-e0fe0e743d0d",
        "colab": {
          "base_uri": "https://localhost:8080/",
          "height": 363
        }
      },
      "outputs": [
        {
          "output_type": "display_data",
          "data": {
            "text/html": [
              "\n",
              "<style>\n",
              "  #altair-viz-97b24317da6c4f558e7c8b2eda5fb67e.vega-embed {\n",
              "    width: 100%;\n",
              "    display: flex;\n",
              "  }\n",
              "\n",
              "  #altair-viz-97b24317da6c4f558e7c8b2eda5fb67e.vega-embed details,\n",
              "  #altair-viz-97b24317da6c4f558e7c8b2eda5fb67e.vega-embed details summary {\n",
              "    position: relative;\n",
              "  }\n",
              "</style>\n",
              "<div id=\"altair-viz-97b24317da6c4f558e7c8b2eda5fb67e\"></div>\n",
              "<script type=\"text/javascript\">\n",
              "  var VEGA_DEBUG = (typeof VEGA_DEBUG == \"undefined\") ? {} : VEGA_DEBUG;\n",
              "  (function(spec, embedOpt){\n",
              "    let outputDiv = document.currentScript.previousElementSibling;\n",
              "    if (outputDiv.id !== \"altair-viz-97b24317da6c4f558e7c8b2eda5fb67e\") {\n",
              "      outputDiv = document.getElementById(\"altair-viz-97b24317da6c4f558e7c8b2eda5fb67e\");\n",
              "    }\n",
              "\n",
              "    const paths = {\n",
              "      \"vega\": \"https://cdn.jsdelivr.net/npm/vega@5?noext\",\n",
              "      \"vega-lib\": \"https://cdn.jsdelivr.net/npm/vega-lib?noext\",\n",
              "      \"vega-lite\": \"https://cdn.jsdelivr.net/npm/vega-lite@5.20.1?noext\",\n",
              "      \"vega-embed\": \"https://cdn.jsdelivr.net/npm/vega-embed@6?noext\",\n",
              "    };\n",
              "\n",
              "    function maybeLoadScript(lib, version) {\n",
              "      var key = `${lib.replace(\"-\", \"\")}_version`;\n",
              "      return (VEGA_DEBUG[key] == version) ?\n",
              "        Promise.resolve(paths[lib]) :\n",
              "        new Promise(function(resolve, reject) {\n",
              "          var s = document.createElement('script');\n",
              "          document.getElementsByTagName(\"head\")[0].appendChild(s);\n",
              "          s.async = true;\n",
              "          s.onload = () => {\n",
              "            VEGA_DEBUG[key] = version;\n",
              "            return resolve(paths[lib]);\n",
              "          };\n",
              "          s.onerror = () => reject(`Error loading script: ${paths[lib]}`);\n",
              "          s.src = paths[lib];\n",
              "        });\n",
              "    }\n",
              "\n",
              "    function showError(err) {\n",
              "      outputDiv.innerHTML = `<div class=\"error\" style=\"color:red;\">${err}</div>`;\n",
              "      throw err;\n",
              "    }\n",
              "\n",
              "    function displayChart(vegaEmbed) {\n",
              "      vegaEmbed(outputDiv, spec, embedOpt)\n",
              "        .catch(err => showError(`Javascript Error: ${err.message}<br>This usually means there's a typo in your chart specification. See the javascript console for the full traceback.`));\n",
              "    }\n",
              "\n",
              "    if(typeof define === \"function\" && define.amd) {\n",
              "      requirejs.config({paths});\n",
              "      let deps = [\"vega-embed\"];\n",
              "      require(deps, displayChart, err => showError(`Error loading script: ${err.message}`));\n",
              "    } else {\n",
              "      maybeLoadScript(\"vega\", \"5\")\n",
              "        .then(() => maybeLoadScript(\"vega-lite\", \"5.20.1\"))\n",
              "        .then(() => maybeLoadScript(\"vega-embed\", \"6\"))\n",
              "        .catch(showError)\n",
              "        .then(() => displayChart(vegaEmbed));\n",
              "    }\n",
              "  })({\"config\": {\"view\": {\"continuousWidth\": 300, \"continuousHeight\": 300}}, \"data\": {\"name\": \"data-f922f5996930bcdc3287c95c54965948\"}, \"mark\": {\"type\": \"circle\"}, \"encoding\": {\"color\": {\"field\": \"species\", \"type\": \"nominal\"}, \"x\": {\"field\": \"petal_length\", \"type\": \"quantitative\"}, \"y\": {\"field\": \"petal_width\", \"type\": \"quantitative\"}}, \"params\": [{\"name\": \"param_1\", \"select\": {\"type\": \"interval\", \"encodings\": [\"x\", \"y\"]}, \"bind\": \"scales\"}], \"$schema\": \"https://vega.github.io/schema/vega-lite/v5.20.1.json\", \"datasets\": {\"data-f922f5996930bcdc3287c95c54965948\": [{\"sepal_length\": 5.1, \"sepal_width\": 3.5, \"petal_length\": 1.4, \"petal_width\": 0.2, \"species\": \"Iris-setosa\"}, {\"sepal_length\": 4.9, \"sepal_width\": 3.0, \"petal_length\": 1.4, \"petal_width\": 0.2, \"species\": \"Iris-setosa\"}, {\"sepal_length\": 4.7, \"sepal_width\": 3.2, \"petal_length\": 1.3, \"petal_width\": 0.2, \"species\": \"Iris-setosa\"}, {\"sepal_length\": 4.6, \"sepal_width\": 3.1, \"petal_length\": 1.5, \"petal_width\": 0.2, \"species\": \"Iris-setosa\"}, {\"sepal_length\": 5.0, \"sepal_width\": 3.6, \"petal_length\": 1.4, \"petal_width\": 0.2, \"species\": \"Iris-setosa\"}, {\"sepal_length\": 5.4, \"sepal_width\": 3.9, \"petal_length\": 1.7, \"petal_width\": 0.4, \"species\": \"Iris-setosa\"}, {\"sepal_length\": 4.6, \"sepal_width\": 3.4, \"petal_length\": 1.4, \"petal_width\": 0.3, \"species\": \"Iris-setosa\"}, {\"sepal_length\": 5.0, \"sepal_width\": 3.4, \"petal_length\": 1.5, \"petal_width\": 0.2, \"species\": \"Iris-setosa\"}, {\"sepal_length\": 4.4, \"sepal_width\": 2.9, \"petal_length\": 1.4, \"petal_width\": 0.2, \"species\": \"Iris-setosa\"}, {\"sepal_length\": 4.9, \"sepal_width\": 3.1, \"petal_length\": 1.5, \"petal_width\": 0.1, \"species\": \"Iris-setosa\"}, {\"sepal_length\": 5.4, \"sepal_width\": 3.7, \"petal_length\": 1.5, \"petal_width\": 0.2, \"species\": \"Iris-setosa\"}, {\"sepal_length\": 4.8, \"sepal_width\": 3.4, \"petal_length\": 1.6, \"petal_width\": 0.2, \"species\": \"Iris-setosa\"}, {\"sepal_length\": 4.8, \"sepal_width\": 3.0, \"petal_length\": 1.4, \"petal_width\": 0.1, \"species\": \"Iris-setosa\"}, {\"sepal_length\": 4.3, \"sepal_width\": 3.0, \"petal_length\": 1.1, \"petal_width\": 0.1, \"species\": \"Iris-setosa\"}, {\"sepal_length\": 5.8, \"sepal_width\": 4.0, \"petal_length\": 1.2, \"petal_width\": 0.2, \"species\": \"Iris-setosa\"}, {\"sepal_length\": 5.7, \"sepal_width\": 4.4, \"petal_length\": 1.5, \"petal_width\": 0.4, \"species\": \"Iris-setosa\"}, {\"sepal_length\": 5.4, \"sepal_width\": 3.9, \"petal_length\": 1.3, \"petal_width\": 0.4, \"species\": \"Iris-setosa\"}, {\"sepal_length\": 5.1, \"sepal_width\": 3.5, \"petal_length\": 1.4, \"petal_width\": 0.3, \"species\": \"Iris-setosa\"}, {\"sepal_length\": 5.7, \"sepal_width\": 3.8, \"petal_length\": 1.7, \"petal_width\": 0.3, \"species\": \"Iris-setosa\"}, {\"sepal_length\": 5.1, \"sepal_width\": 3.8, \"petal_length\": 1.5, \"petal_width\": 0.3, \"species\": \"Iris-setosa\"}, {\"sepal_length\": 5.4, \"sepal_width\": 3.4, \"petal_length\": 1.7, \"petal_width\": 0.2, \"species\": \"Iris-setosa\"}, {\"sepal_length\": 5.1, \"sepal_width\": 3.7, \"petal_length\": 1.5, \"petal_width\": 0.4, \"species\": \"Iris-setosa\"}, {\"sepal_length\": 4.6, \"sepal_width\": 3.6, \"petal_length\": 1.0, \"petal_width\": 0.2, \"species\": \"Iris-setosa\"}, {\"sepal_length\": 5.1, \"sepal_width\": 3.3, \"petal_length\": 1.7, \"petal_width\": 0.5, \"species\": \"Iris-setosa\"}, {\"sepal_length\": 4.8, \"sepal_width\": 3.4, \"petal_length\": 1.9, \"petal_width\": 0.2, \"species\": \"Iris-setosa\"}, {\"sepal_length\": 5.0, \"sepal_width\": 3.0, \"petal_length\": 1.6, \"petal_width\": 0.2, \"species\": \"Iris-setosa\"}, {\"sepal_length\": 5.0, \"sepal_width\": 3.4, \"petal_length\": 1.6, \"petal_width\": 0.4, \"species\": \"Iris-setosa\"}, {\"sepal_length\": 5.2, \"sepal_width\": 3.5, \"petal_length\": 1.5, \"petal_width\": 0.2, \"species\": \"Iris-setosa\"}, {\"sepal_length\": 5.2, \"sepal_width\": 3.4, \"petal_length\": 1.4, \"petal_width\": 0.2, \"species\": \"Iris-setosa\"}, {\"sepal_length\": 4.7, \"sepal_width\": 3.2, \"petal_length\": 1.6, \"petal_width\": 0.2, \"species\": \"Iris-setosa\"}, {\"sepal_length\": 4.8, \"sepal_width\": 3.1, \"petal_length\": 1.6, \"petal_width\": 0.2, \"species\": \"Iris-setosa\"}, {\"sepal_length\": 5.4, \"sepal_width\": 3.4, \"petal_length\": 1.5, \"petal_width\": 0.4, \"species\": \"Iris-setosa\"}, {\"sepal_length\": 5.2, \"sepal_width\": 4.1, \"petal_length\": 1.5, \"petal_width\": 0.1, \"species\": \"Iris-setosa\"}, {\"sepal_length\": 5.5, \"sepal_width\": 4.2, \"petal_length\": 1.4, \"petal_width\": 0.2, \"species\": \"Iris-setosa\"}, {\"sepal_length\": 4.9, \"sepal_width\": 3.1, \"petal_length\": 1.5, \"petal_width\": 0.1, \"species\": \"Iris-setosa\"}, {\"sepal_length\": 5.0, \"sepal_width\": 3.2, \"petal_length\": 1.2, \"petal_width\": 0.2, \"species\": \"Iris-setosa\"}, {\"sepal_length\": 5.5, \"sepal_width\": 3.5, \"petal_length\": 1.3, \"petal_width\": 0.2, \"species\": \"Iris-setosa\"}, {\"sepal_length\": 4.9, \"sepal_width\": 3.1, \"petal_length\": 1.5, \"petal_width\": 0.1, \"species\": \"Iris-setosa\"}, {\"sepal_length\": 4.4, \"sepal_width\": 3.0, \"petal_length\": 1.3, \"petal_width\": 0.2, \"species\": \"Iris-setosa\"}, {\"sepal_length\": 5.1, \"sepal_width\": 3.4, \"petal_length\": 1.5, \"petal_width\": 0.2, \"species\": \"Iris-setosa\"}, {\"sepal_length\": 5.0, \"sepal_width\": 3.5, \"petal_length\": 1.3, \"petal_width\": 0.3, \"species\": \"Iris-setosa\"}, {\"sepal_length\": 4.5, \"sepal_width\": 2.3, \"petal_length\": 1.3, \"petal_width\": 0.3, \"species\": \"Iris-setosa\"}, {\"sepal_length\": 4.4, \"sepal_width\": 3.2, \"petal_length\": 1.3, \"petal_width\": 0.2, \"species\": \"Iris-setosa\"}, {\"sepal_length\": 5.0, \"sepal_width\": 3.5, \"petal_length\": 1.6, \"petal_width\": 0.6, \"species\": \"Iris-setosa\"}, {\"sepal_length\": 5.1, \"sepal_width\": 3.8, \"petal_length\": 1.9, \"petal_width\": 0.4, \"species\": \"Iris-setosa\"}, {\"sepal_length\": 4.8, \"sepal_width\": 3.0, \"petal_length\": 1.4, \"petal_width\": 0.3, \"species\": \"Iris-setosa\"}, {\"sepal_length\": 5.1, \"sepal_width\": 3.8, \"petal_length\": 1.6, \"petal_width\": 0.2, \"species\": \"Iris-setosa\"}, {\"sepal_length\": 4.6, \"sepal_width\": 3.2, \"petal_length\": 1.4, \"petal_width\": 0.2, \"species\": \"Iris-setosa\"}, {\"sepal_length\": 5.3, \"sepal_width\": 3.7, \"petal_length\": 1.5, \"petal_width\": 0.2, \"species\": \"Iris-setosa\"}, {\"sepal_length\": 5.0, \"sepal_width\": 3.3, \"petal_length\": 1.4, \"petal_width\": 0.2, \"species\": \"Iris-setosa\"}, {\"sepal_length\": 7.0, \"sepal_width\": 3.2, \"petal_length\": 4.7, \"petal_width\": 1.4, \"species\": \"Iris-versicolor\"}, {\"sepal_length\": 6.4, \"sepal_width\": 3.2, \"petal_length\": 4.5, \"petal_width\": 1.5, \"species\": \"Iris-versicolor\"}, {\"sepal_length\": 6.9, \"sepal_width\": 3.1, \"petal_length\": 4.9, \"petal_width\": 1.5, \"species\": \"Iris-versicolor\"}, {\"sepal_length\": 5.5, \"sepal_width\": 2.3, \"petal_length\": 4.0, \"petal_width\": 1.3, \"species\": \"Iris-versicolor\"}, {\"sepal_length\": 6.5, \"sepal_width\": 2.8, \"petal_length\": 4.6, \"petal_width\": 1.5, \"species\": \"Iris-versicolor\"}, {\"sepal_length\": 5.7, \"sepal_width\": 2.8, \"petal_length\": 4.5, \"petal_width\": 1.3, \"species\": \"Iris-versicolor\"}, {\"sepal_length\": 6.3, \"sepal_width\": 3.3, \"petal_length\": 4.7, \"petal_width\": 1.6, \"species\": \"Iris-versicolor\"}, {\"sepal_length\": 4.9, \"sepal_width\": 2.4, \"petal_length\": 3.3, \"petal_width\": 1.0, \"species\": \"Iris-versicolor\"}, {\"sepal_length\": 6.6, \"sepal_width\": 2.9, \"petal_length\": 4.6, \"petal_width\": 1.3, \"species\": \"Iris-versicolor\"}, {\"sepal_length\": 5.2, \"sepal_width\": 2.7, \"petal_length\": 3.9, \"petal_width\": 1.4, \"species\": \"Iris-versicolor\"}, {\"sepal_length\": 5.0, \"sepal_width\": 2.0, \"petal_length\": 3.5, \"petal_width\": 1.0, \"species\": \"Iris-versicolor\"}, {\"sepal_length\": 5.9, \"sepal_width\": 3.0, \"petal_length\": 4.2, \"petal_width\": 1.5, \"species\": \"Iris-versicolor\"}, {\"sepal_length\": 6.0, \"sepal_width\": 2.2, \"petal_length\": 4.0, \"petal_width\": 1.0, \"species\": \"Iris-versicolor\"}, {\"sepal_length\": 6.1, \"sepal_width\": 2.9, \"petal_length\": 4.7, \"petal_width\": 1.4, \"species\": \"Iris-versicolor\"}, {\"sepal_length\": 5.6, \"sepal_width\": 2.9, \"petal_length\": 3.6, \"petal_width\": 1.3, \"species\": \"Iris-versicolor\"}, {\"sepal_length\": 6.7, \"sepal_width\": 3.1, \"petal_length\": 4.4, \"petal_width\": 1.4, \"species\": \"Iris-versicolor\"}, {\"sepal_length\": 5.6, \"sepal_width\": 3.0, \"petal_length\": 4.5, \"petal_width\": 1.5, \"species\": \"Iris-versicolor\"}, {\"sepal_length\": 5.8, \"sepal_width\": 2.7, \"petal_length\": 4.1, \"petal_width\": 1.0, \"species\": \"Iris-versicolor\"}, {\"sepal_length\": 6.2, \"sepal_width\": 2.2, \"petal_length\": 4.5, \"petal_width\": 1.5, \"species\": \"Iris-versicolor\"}, {\"sepal_length\": 5.6, \"sepal_width\": 2.5, \"petal_length\": 3.9, \"petal_width\": 1.1, \"species\": \"Iris-versicolor\"}, {\"sepal_length\": 5.9, \"sepal_width\": 3.2, \"petal_length\": 4.8, \"petal_width\": 1.8, \"species\": \"Iris-versicolor\"}, {\"sepal_length\": 6.1, \"sepal_width\": 2.8, \"petal_length\": 4.0, \"petal_width\": 1.3, \"species\": \"Iris-versicolor\"}, {\"sepal_length\": 6.3, \"sepal_width\": 2.5, \"petal_length\": 4.9, \"petal_width\": 1.5, \"species\": \"Iris-versicolor\"}, {\"sepal_length\": 6.1, \"sepal_width\": 2.8, \"petal_length\": 4.7, \"petal_width\": 1.2, \"species\": \"Iris-versicolor\"}, {\"sepal_length\": 6.4, \"sepal_width\": 2.9, \"petal_length\": 4.3, \"petal_width\": 1.3, \"species\": \"Iris-versicolor\"}, {\"sepal_length\": 6.6, \"sepal_width\": 3.0, \"petal_length\": 4.4, \"petal_width\": 1.4, \"species\": \"Iris-versicolor\"}, {\"sepal_length\": 6.8, \"sepal_width\": 2.8, \"petal_length\": 4.8, \"petal_width\": 1.4, \"species\": \"Iris-versicolor\"}, {\"sepal_length\": 6.7, \"sepal_width\": 3.0, \"petal_length\": 5.0, \"petal_width\": 1.7, \"species\": \"Iris-versicolor\"}, {\"sepal_length\": 6.0, \"sepal_width\": 2.9, \"petal_length\": 4.5, \"petal_width\": 1.5, \"species\": \"Iris-versicolor\"}, {\"sepal_length\": 5.7, \"sepal_width\": 2.6, \"petal_length\": 3.5, \"petal_width\": 1.0, \"species\": \"Iris-versicolor\"}, {\"sepal_length\": 5.5, \"sepal_width\": 2.4, \"petal_length\": 3.8, \"petal_width\": 1.1, \"species\": \"Iris-versicolor\"}, {\"sepal_length\": 5.5, \"sepal_width\": 2.4, \"petal_length\": 3.7, \"petal_width\": 1.0, \"species\": \"Iris-versicolor\"}, {\"sepal_length\": 5.8, \"sepal_width\": 2.7, \"petal_length\": 3.9, \"petal_width\": 1.2, \"species\": \"Iris-versicolor\"}, {\"sepal_length\": 6.0, \"sepal_width\": 2.7, \"petal_length\": 5.1, \"petal_width\": 1.6, \"species\": \"Iris-versicolor\"}, {\"sepal_length\": 5.4, \"sepal_width\": 3.0, \"petal_length\": 4.5, \"petal_width\": 1.5, \"species\": \"Iris-versicolor\"}, {\"sepal_length\": 6.0, \"sepal_width\": 3.4, \"petal_length\": 4.5, \"petal_width\": 1.6, \"species\": \"Iris-versicolor\"}, {\"sepal_length\": 6.7, \"sepal_width\": 3.1, \"petal_length\": 4.7, \"petal_width\": 1.5, \"species\": \"Iris-versicolor\"}, {\"sepal_length\": 6.3, \"sepal_width\": 2.3, \"petal_length\": 4.4, \"petal_width\": 1.3, \"species\": \"Iris-versicolor\"}, {\"sepal_length\": 5.6, \"sepal_width\": 3.0, \"petal_length\": 4.1, \"petal_width\": 1.3, \"species\": \"Iris-versicolor\"}, {\"sepal_length\": 5.5, \"sepal_width\": 2.5, \"petal_length\": 4.0, \"petal_width\": 1.3, \"species\": \"Iris-versicolor\"}, {\"sepal_length\": 5.5, \"sepal_width\": 2.6, \"petal_length\": 4.4, \"petal_width\": 1.2, \"species\": \"Iris-versicolor\"}, {\"sepal_length\": 6.1, \"sepal_width\": 3.0, \"petal_length\": 4.6, \"petal_width\": 1.4, \"species\": \"Iris-versicolor\"}, {\"sepal_length\": 5.8, \"sepal_width\": 2.6, \"petal_length\": 4.0, \"petal_width\": 1.2, \"species\": \"Iris-versicolor\"}, {\"sepal_length\": 5.0, \"sepal_width\": 2.3, \"petal_length\": 3.3, \"petal_width\": 1.0, \"species\": \"Iris-versicolor\"}, {\"sepal_length\": 5.6, \"sepal_width\": 2.7, \"petal_length\": 4.2, \"petal_width\": 1.3, \"species\": \"Iris-versicolor\"}, {\"sepal_length\": 5.7, \"sepal_width\": 3.0, \"petal_length\": 4.2, \"petal_width\": 1.2, \"species\": \"Iris-versicolor\"}, {\"sepal_length\": 5.7, \"sepal_width\": 2.9, \"petal_length\": 4.2, \"petal_width\": 1.3, \"species\": \"Iris-versicolor\"}, {\"sepal_length\": 6.2, \"sepal_width\": 2.9, \"petal_length\": 4.3, \"petal_width\": 1.3, \"species\": \"Iris-versicolor\"}, {\"sepal_length\": 5.1, \"sepal_width\": 2.5, \"petal_length\": 3.0, \"petal_width\": 1.1, \"species\": \"Iris-versicolor\"}, {\"sepal_length\": 5.7, \"sepal_width\": 2.8, \"petal_length\": 4.1, \"petal_width\": 1.3, \"species\": \"Iris-versicolor\"}, {\"sepal_length\": 6.3, \"sepal_width\": 3.3, \"petal_length\": 6.0, \"petal_width\": 2.5, \"species\": \"Iris-virginica\"}, {\"sepal_length\": 5.8, \"sepal_width\": 2.7, \"petal_length\": 5.1, \"petal_width\": 1.9, \"species\": \"Iris-virginica\"}, {\"sepal_length\": 7.1, \"sepal_width\": 3.0, \"petal_length\": 5.9, \"petal_width\": 2.1, \"species\": \"Iris-virginica\"}, {\"sepal_length\": 6.3, \"sepal_width\": 2.9, \"petal_length\": 5.6, \"petal_width\": 1.8, \"species\": \"Iris-virginica\"}, {\"sepal_length\": 6.5, \"sepal_width\": 3.0, \"petal_length\": 5.8, \"petal_width\": 2.2, \"species\": \"Iris-virginica\"}, {\"sepal_length\": 7.6, \"sepal_width\": 3.0, \"petal_length\": 6.6, \"petal_width\": 2.1, \"species\": \"Iris-virginica\"}, {\"sepal_length\": 4.9, \"sepal_width\": 2.5, \"petal_length\": 4.5, \"petal_width\": 1.7, \"species\": \"Iris-virginica\"}, {\"sepal_length\": 7.3, \"sepal_width\": 2.9, \"petal_length\": 6.3, \"petal_width\": 1.8, \"species\": \"Iris-virginica\"}, {\"sepal_length\": 6.7, \"sepal_width\": 2.5, \"petal_length\": 5.8, \"petal_width\": 1.8, \"species\": \"Iris-virginica\"}, {\"sepal_length\": 7.2, \"sepal_width\": 3.6, \"petal_length\": 6.1, \"petal_width\": 2.5, \"species\": \"Iris-virginica\"}, {\"sepal_length\": 6.5, \"sepal_width\": 3.2, \"petal_length\": 5.1, \"petal_width\": 2.0, \"species\": \"Iris-virginica\"}, {\"sepal_length\": 6.4, \"sepal_width\": 2.7, \"petal_length\": 5.3, \"petal_width\": 1.9, \"species\": \"Iris-virginica\"}, {\"sepal_length\": 6.8, \"sepal_width\": 3.0, \"petal_length\": 5.5, \"petal_width\": 2.1, \"species\": \"Iris-virginica\"}, {\"sepal_length\": 5.7, \"sepal_width\": 2.5, \"petal_length\": 5.0, \"petal_width\": 2.0, \"species\": \"Iris-virginica\"}, {\"sepal_length\": 5.8, \"sepal_width\": 2.8, \"petal_length\": 5.1, \"petal_width\": 2.4, \"species\": \"Iris-virginica\"}, {\"sepal_length\": 6.4, \"sepal_width\": 3.2, \"petal_length\": 5.3, \"petal_width\": 2.3, \"species\": \"Iris-virginica\"}, {\"sepal_length\": 6.5, \"sepal_width\": 3.0, \"petal_length\": 5.5, \"petal_width\": 1.8, \"species\": \"Iris-virginica\"}, {\"sepal_length\": 7.7, \"sepal_width\": 3.8, \"petal_length\": 6.7, \"petal_width\": 2.2, \"species\": \"Iris-virginica\"}, {\"sepal_length\": 7.7, \"sepal_width\": 2.6, \"petal_length\": 6.9, \"petal_width\": 2.3, \"species\": \"Iris-virginica\"}, {\"sepal_length\": 6.0, \"sepal_width\": 2.2, \"petal_length\": 5.0, \"petal_width\": 1.5, \"species\": \"Iris-virginica\"}, {\"sepal_length\": 6.9, \"sepal_width\": 3.2, \"petal_length\": 5.7, \"petal_width\": 2.3, \"species\": \"Iris-virginica\"}, {\"sepal_length\": 5.6, \"sepal_width\": 2.8, \"petal_length\": 4.9, \"petal_width\": 2.0, \"species\": \"Iris-virginica\"}, {\"sepal_length\": 7.7, \"sepal_width\": 2.8, \"petal_length\": 6.7, \"petal_width\": 2.0, \"species\": \"Iris-virginica\"}, {\"sepal_length\": 6.3, \"sepal_width\": 2.7, \"petal_length\": 4.9, \"petal_width\": 1.8, \"species\": \"Iris-virginica\"}, {\"sepal_length\": 6.7, \"sepal_width\": 3.3, \"petal_length\": 5.7, \"petal_width\": 2.1, \"species\": \"Iris-virginica\"}, {\"sepal_length\": 7.2, \"sepal_width\": 3.2, \"petal_length\": 6.0, \"petal_width\": 1.8, \"species\": \"Iris-virginica\"}, {\"sepal_length\": 6.2, \"sepal_width\": 2.8, \"petal_length\": 4.8, \"petal_width\": 1.8, \"species\": \"Iris-virginica\"}, {\"sepal_length\": 6.1, \"sepal_width\": 3.0, \"petal_length\": 4.9, \"petal_width\": 1.8, \"species\": \"Iris-virginica\"}, {\"sepal_length\": 6.4, \"sepal_width\": 2.8, \"petal_length\": 5.6, \"petal_width\": 2.1, \"species\": \"Iris-virginica\"}, {\"sepal_length\": 7.2, \"sepal_width\": 3.0, \"petal_length\": 5.8, \"petal_width\": 1.6, \"species\": \"Iris-virginica\"}, {\"sepal_length\": 7.4, \"sepal_width\": 2.8, \"petal_length\": 6.1, \"petal_width\": 1.9, \"species\": \"Iris-virginica\"}, {\"sepal_length\": 7.9, \"sepal_width\": 3.8, \"petal_length\": 6.4, \"petal_width\": 2.0, \"species\": \"Iris-virginica\"}, {\"sepal_length\": 6.4, \"sepal_width\": 2.8, \"petal_length\": 5.6, \"petal_width\": 2.2, \"species\": \"Iris-virginica\"}, {\"sepal_length\": 6.3, \"sepal_width\": 2.8, \"petal_length\": 5.1, \"petal_width\": 1.5, \"species\": \"Iris-virginica\"}, {\"sepal_length\": 6.1, \"sepal_width\": 2.6, \"petal_length\": 5.6, \"petal_width\": 1.4, \"species\": \"Iris-virginica\"}, {\"sepal_length\": 7.7, \"sepal_width\": 3.0, \"petal_length\": 6.1, \"petal_width\": 2.3, \"species\": \"Iris-virginica\"}, {\"sepal_length\": 6.3, \"sepal_width\": 3.4, \"petal_length\": 5.6, \"petal_width\": 2.4, \"species\": \"Iris-virginica\"}, {\"sepal_length\": 6.4, \"sepal_width\": 3.1, \"petal_length\": 5.5, \"petal_width\": 1.8, \"species\": \"Iris-virginica\"}, {\"sepal_length\": 6.0, \"sepal_width\": 3.0, \"petal_length\": 4.8, \"petal_width\": 1.8, \"species\": \"Iris-virginica\"}, {\"sepal_length\": 6.9, \"sepal_width\": 3.1, \"petal_length\": 5.4, \"petal_width\": 2.1, \"species\": \"Iris-virginica\"}, {\"sepal_length\": 6.7, \"sepal_width\": 3.1, \"petal_length\": 5.6, \"petal_width\": 2.4, \"species\": \"Iris-virginica\"}, {\"sepal_length\": 6.9, \"sepal_width\": 3.1, \"petal_length\": 5.1, \"petal_width\": 2.3, \"species\": \"Iris-virginica\"}, {\"sepal_length\": 5.8, \"sepal_width\": 2.7, \"petal_length\": 5.1, \"petal_width\": 1.9, \"species\": \"Iris-virginica\"}, {\"sepal_length\": 6.8, \"sepal_width\": 3.2, \"petal_length\": 5.9, \"petal_width\": 2.3, \"species\": \"Iris-virginica\"}, {\"sepal_length\": 6.7, \"sepal_width\": 3.3, \"petal_length\": 5.7, \"petal_width\": 2.5, \"species\": \"Iris-virginica\"}, {\"sepal_length\": 6.7, \"sepal_width\": 3.0, \"petal_length\": 5.2, \"petal_width\": 2.3, \"species\": \"Iris-virginica\"}, {\"sepal_length\": 6.3, \"sepal_width\": 2.5, \"petal_length\": 5.0, \"petal_width\": 1.9, \"species\": \"Iris-virginica\"}, {\"sepal_length\": 6.5, \"sepal_width\": 3.0, \"petal_length\": 5.2, \"petal_width\": 2.0, \"species\": \"Iris-virginica\"}, {\"sepal_length\": 6.2, \"sepal_width\": 3.4, \"petal_length\": 5.4, \"petal_width\": 2.3, \"species\": \"Iris-virginica\"}, {\"sepal_length\": 5.9, \"sepal_width\": 3.0, \"petal_length\": 5.1, \"petal_width\": 1.8, \"species\": \"Iris-virginica\"}]}}, {\"mode\": \"vega-lite\"});\n",
              "</script>"
            ],
            "text/plain": [
              "alt.Chart(...)"
            ]
          },
          "metadata": {}
        }
      ],
      "source": [
        "import altair as alt\n",
        "\n",
        "scatter = alt.Chart(df).mark_circle().encode(\n",
        "    x='petal_length',\n",
        "    y='petal_width',\n",
        "    color='species'\n",
        ").interactive()\n",
        "\n",
        "scatter.display()\n"
      ]
    },
    {
      "cell_type": "markdown",
      "metadata": {
        "id": "baCxzbklvRbu"
      },
      "source": [
        "## Part C: Prepare the Data for Machine Learning\n",
        "\n",
        "Data preparation (sometimes called \"data wrangling\" or \"data munging\") is where you'll usually spend the bulk of your time when working on machine learning problems. Only rarely is data already in the optimal form for a given algorithm.\n",
        "\n",
        "Often we have to deal with missing values, normalize the data, and perform both simple and complex feature engineering to get the data into the form we need.\n",
        "\n",
        "Once the data is in the correct form, we can then randomize the data and split it into training and test datasets (and sometimes an additional validation dataset).\n",
        "\n",
        "### Machine Learning Steps\n",
        "\n",
        "Almost universally, regardless of which algorithm or type of task we're performing, building and evaluating a machine learning model with sklearn follows these steps:\n",
        "\n",
        "1. Perform any data preprocessing needed.\n",
        "2. Partition the data into features and targets.\n",
        "3. Split the data into training and test sets (and sometimes a third validation set).\n",
        "4. Create a configure whichever sklearn model object we're using.\n",
        "5. Train the model using its \"fit\" method.\n",
        "6. Test the model using its \"predict\" method.\n",
        "7. Use a model evaluation metric to see how well the model performs.\n",
        "\n",
        "If the model isn't performing well, we will repeat one or more of the above steps (sometimes all of them).\n",
        "\n",
        "Once the model is performing adequately, we'll deploy it for use as part of some larger system.\n",
        "\n",
        "For now, let's assume that this dataset is in the form we need, and we'll skip to step 2, partitioning the data.\n"
      ]
    },
    {
      "cell_type": "markdown",
      "metadata": {
        "id": "zoMlhBCrw8qQ"
      },
      "source": [
        "### Step 2. Partition the Data into Features and Targets\n",
        "First, we'll create a dataframe called \"X\" containing the features of the data we want to use to make our predictions. In this case, that will be the `sepal_length`, `sepal_width`, `petal_length`, and `petal_width` features.\n",
        "\n",
        "(The name \"X\" isn't special, but uppercase X is the conventional name for our feature dataset, because that's what statisticians use to refer to a matrix of independent variables)"
      ]
    },
    {
      "cell_type": "code",
      "execution_count": 7,
      "metadata": {
        "id": "JhIKMSFmnWD3",
        "outputId": "5401c263-7bb3-4448-8626-46d7e56e2b56",
        "colab": {
          "base_uri": "https://localhost:8080/"
        }
      },
      "outputs": [
        {
          "output_type": "stream",
          "name": "stdout",
          "text": [
            "   sepal_length  sepal_width  petal_length  petal_width\n",
            "0           5.1          3.5           1.4          0.2\n",
            "1           4.9          3.0           1.4          0.2\n",
            "2           4.7          3.2           1.3          0.2\n",
            "3           4.6          3.1           1.5          0.2\n",
            "4           5.0          3.6           1.4          0.2\n"
          ]
        }
      ],
      "source": [
        "# Create a new dataframe called X that contians the features we're going\n",
        "# to use to make predictions\n",
        "X = df[['sepal_length', 'sepal_width', 'petal_length', 'petal_width']]\n",
        "print(X.head())"
      ]
    },
    {
      "cell_type": "markdown",
      "metadata": {
        "id": "dTk_L5_Xw3VI"
      },
      "source": [
        "Next we'll create a dataframe called \"y\" containing the target variable, or the set of values we want to predict. In this case, that will be `species`.\n",
        "\n",
        "(Once again, the name \"y\" isn't special, but lowercase y is the conventional name for a list of targets, because that's what statisticians use to refer to a vector of dependent variables)"
      ]
    },
    {
      "cell_type": "code",
      "execution_count": 8,
      "metadata": {
        "id": "5OiWdSVAnfdV",
        "outputId": "4e10366b-9b22-428a-ba06-e8e23184a5cc",
        "colab": {
          "base_uri": "https://localhost:8080/"
        }
      },
      "outputs": [
        {
          "output_type": "stream",
          "name": "stdout",
          "text": [
            "0    Iris-setosa\n",
            "1    Iris-setosa\n",
            "2    Iris-setosa\n",
            "3    Iris-setosa\n",
            "4    Iris-setosa\n",
            "Name: species, dtype: object\n"
          ]
        }
      ],
      "source": [
        "# Create a new dataframe called y that contians the target we're\n",
        "# trying to predict\n",
        "y = df['species']\n",
        "print(y.head())"
      ]
    },
    {
      "cell_type": "markdown",
      "metadata": {
        "id": "YmQUnia7xhxn"
      },
      "source": [
        "### Step 3. Split the data into training and test sets.\n",
        "\n",
        "Now that we have our data divided into features (X) and target values (y), we'll split each of these into a training set and a test set.\n",
        "\n",
        "We'll use the training sets to \"train\" our model how to make predictions.\n",
        "\n",
        "We'll then use our test sets to test how well our model has learned from the training data.\n",
        "\n",
        "While we could use a bunch of python code to do this step, the sklearn library has lots of built-in functions to handle common data manipulations related to machine learning.\n",
        "\n",
        "For this step, we'll use the [train_test_split()](https://scikit-learn.org/stable/modules/generated/sklearn.model_selection.train_test_split.html) function."
      ]
    },
    {
      "cell_type": "code",
      "execution_count": 9,
      "metadata": {
        "id": "t2DlWt96ni10"
      },
      "outputs": [],
      "source": [
        "# Import and use the train_test_split() function to split the X and y\n",
        "# dataframes into training and test sets.\n",
        "#\n",
        "# The training data should contain 80% of the samples and\n",
        "# the test data should contain 20% of the samples.\n",
        "import sklearn.model_selection as model_selection\n",
        "\n",
        "X_train, X_test, y_train, y_test = model_selection.train_test_split(X, y, test_size=0.2, random_state=42)"
      ]
    },
    {
      "cell_type": "markdown",
      "metadata": {
        "id": "Pf5w0Y1fypww"
      },
      "source": [
        "After creating the training and test splits, output the head() of each one and notice how they row numbers have been randomized.\n",
        "\n",
        "Also notice that X_train and y_train's row numbers match up, as do X_test and y_test's row numbers."
      ]
    },
    {
      "cell_type": "code",
      "execution_count": 11,
      "metadata": {
        "id": "bycoj7HnyoNi",
        "outputId": "8d9e0e18-101e-4e22-825f-1c263445746a",
        "colab": {
          "base_uri": "https://localhost:8080/"
        }
      },
      "outputs": [
        {
          "output_type": "stream",
          "name": "stdout",
          "text": [
            "X_train:\n",
            "    sepal_length  sepal_width  petal_length  petal_width\n",
            "22           4.6          3.6           1.0          0.2\n",
            "15           5.7          4.4           1.5          0.4\n",
            "65           6.7          3.1           4.4          1.4\n",
            "11           4.8          3.4           1.6          0.2\n",
            "42           4.4          3.2           1.3          0.2\n",
            "\n",
            "y_train:\n",
            "22        Iris-setosa\n",
            "15        Iris-setosa\n",
            "65    Iris-versicolor\n",
            "11        Iris-setosa\n",
            "42        Iris-setosa\n",
            "Name: species, dtype: object\n",
            "\n",
            "X_test:\n",
            "     sepal_length  sepal_width  petal_length  petal_width\n",
            "73            6.1          2.8           4.7          1.2\n",
            "18            5.7          3.8           1.7          0.3\n",
            "118           7.7          2.6           6.9          2.3\n",
            "78            6.0          2.9           4.5          1.5\n",
            "76            6.8          2.8           4.8          1.4\n",
            "\n",
            "y_test:\n",
            "73     Iris-versicolor\n",
            "18         Iris-setosa\n",
            "118     Iris-virginica\n",
            "78     Iris-versicolor\n",
            "76     Iris-versicolor\n",
            "Name: species, dtype: object\n"
          ]
        }
      ],
      "source": [
        "print(\"X_train:\")\n",
        "print(X_train.head())\n",
        "print(\"\\ny_train:\")\n",
        "print(y_train.head())\n",
        "print(\"\\nX_test:\")\n",
        "print(X_test.head())\n",
        "print(\"\\ny_test:\")\n",
        "print(y_test.head())"
      ]
    },
    {
      "cell_type": "code",
      "execution_count": null,
      "metadata": {
        "id": "Mb7f5WiVnupq"
      },
      "outputs": [],
      "source": []
    },
    {
      "cell_type": "markdown",
      "metadata": {
        "id": "WgB-4SIwy8LO"
      },
      "source": [
        "## Part D: Create and Train a Model\n",
        "\n",
        "We're going to create a model based on the k-Nearest Neighbors algorithm.\n",
        "\n",
        "Since this is a classification task, (we're trying to classify which species a given flower belongs to), we'll use sklearn's [KNeighborsClassifer](https://scikit-learn.org/stable/modules/generated/sklearn.neighbors.KNeighborsClassifier.html#sklearn.neighbors.KNeighborsClassifier)."
      ]
    },
    {
      "cell_type": "markdown",
      "metadata": {
        "id": "EjWBgtnB0L3i"
      },
      "source": [
        "### Step 4. Create and configure the model\n",
        "\n",
        "We start by importing the information about the model we want to create. In python, this information is called a _class_.\n",
        "\n",
        "The KNeighborsClassifier class contains all of the information python needs to create a kNN Classifier.\n",
        "\n",
        "Once we've imported the class, we'll create an _instance_ of the class using this syntax:\n",
        "\n",
        "    whatever = ClassName( parameter_one = value, parameter_two = something_else, etc...)\n",
        "\n",
        "In our case, the class name is `KNeighborsClassifer`. It doesn't matter what we call the variable that holds the instance, but one popular convention is to call classifier instances `clf`, so that's what you'll see in the sklearn documentation.\n",
        "\n",
        "The only parameter we want to configure is the `n_neighbors` parameter, which controls the value of `k` in the kNN algorithm."
      ]
    },
    {
      "cell_type": "code",
      "execution_count": null,
      "metadata": {
        "id": "KynXQXBRk-nL"
      },
      "outputs": [],
      "source": [
        "# Import the KNeighborsClassifier class from sklearn\n",
        "# Note that it's in the neighbors submodule. See the example code in the\n",
        "# documentation for details on how to import it\n"
      ]
    },
    {
      "cell_type": "code",
      "execution_count": null,
      "metadata": {
        "id": "PXGAiVEf04Wo"
      },
      "outputs": [],
      "source": [
        "# Create an instance of the model, configuring it to use the 3 nearest neighbors\n",
        "# store the instance in a variable\n"
      ]
    },
    {
      "cell_type": "markdown",
      "metadata": {
        "id": "z4HPfa651GYz"
      },
      "source": [
        "### Step 5: Train the model\n",
        "\n",
        "Next we'll train the model. We do this by providing it with the training data we split off from the dataset in step 3.\n",
        "\n",
        "The model \"learns\" how to associate the feature values (X) with the targets (y). The exact process it uses to learn how to do this depends on which algorithm we're using.\n",
        "\n",
        "Sometimes, this is called \"fitting the data to the model\", so in sklearn, we perform this step using the [fit()](https://scikit-learn.org/stable/modules/generated/sklearn.neighbors.KNeighborsClassifier.html#sklearn.neighbors.KNeighborsClassifier.fit) method."
      ]
    },
    {
      "cell_type": "code",
      "execution_count": null,
      "metadata": {
        "id": "dizfrzOr1I8a"
      },
      "outputs": [],
      "source": [
        "# Call the \"fit\" method of the classifier instance we created in step 4.\n",
        "# Pass it the X_train and y_train data so that it can learn to make predictions\n"
      ]
    },
    {
      "cell_type": "markdown",
      "metadata": {
        "id": "VicDBl5Me_y4"
      },
      "source": [
        "## Part E: Make Predictions and Evaluate the Model\n",
        "\n",
        "Now that the model has been created and trained, we can use it to make predictions. Since this is a classification model, when we give it a set of features, it tells us what the most likely target value is.\n",
        "\n",
        "In this case, we tell the model \"here are the values for petal width, petal length, sepal width, and sepal length for a particular flower\" The model then tells us which species is the most likely for that flower.\n",
        "\n",
        "When testing how well our model works, we'll use the test data we split off earlier. It contains the measurements for several flowers, along with their species."
      ]
    },
    {
      "cell_type": "markdown",
      "metadata": {
        "id": "k9DzR_52ipq-"
      },
      "source": [
        "### Step 6: Make Predictions on Test Data\n",
        "\n",
        "We'll give the measurements of each flower to the model and have it predict their species. We'll then compare those predictions to the known values to determine how accurate our model is.\n",
        "\n",
        "Since this is a classification model, there are two different methods we can use to make predictions:\n",
        "\n",
        "- [predict()](https://scikit-learn.org/stable/modules/generated/sklearn.neighbors.KNeighborsClassifier.html#sklearn.neighbors.KNeighborsClassifier.predict), which returns the most likely prediction for each sample.\n",
        "\n",
        "- [predict_proba()](https://scikit-learn.org/stable/modules/generated/sklearn.neighbors.KNeighborsClassifier.html#sklearn.neighbors.KNeighborsClassifier.predict_proba) which returns a list of probabilities for each sample. The probabilities tell us how confident the model is that the corresponding sample belongs to a particular class."
      ]
    },
    {
      "cell_type": "code",
      "execution_count": null,
      "metadata": {
        "id": "Y1wzEojqoEn_"
      },
      "outputs": [],
      "source": [
        "# Use the predict() method to get a list of predictions for the samples in our\n",
        "# test data. Then output those predictions\n"
      ]
    },
    {
      "cell_type": "code",
      "execution_count": null,
      "metadata": {
        "id": "v8rNy7hxoNfu"
      },
      "outputs": [],
      "source": [
        "# Just a quick comparison with y_test to see if they match up\n"
      ]
    },
    {
      "cell_type": "markdown",
      "metadata": {
        "id": "_YBap2t2igKT"
      },
      "source": [
        "### Step 7: Evaluate the Model\n",
        "\n",
        "There are several metrics we can use to determine how well our model is performing.\n",
        "\n",
        "Most of them are in the [sklearn.metrics library](https://scikit-learn.org/stable/modules/classes.html#sklearn-metrics-metrics).\n",
        "\n",
        "Most of the sklearn metric function work using the same pattern. We import the function, then give it a list of the true values for our test data, and a list of the values the model predicted for our test data. The metric then outputs the value. How we interpret that value will depend on the exact problem we're solving, the qualities of our data, and the particular metric we're using."
      ]
    },
    {
      "cell_type": "markdown",
      "metadata": {
        "id": "w-na7Ahwl6d2"
      },
      "source": [
        "#### Accuracy\n",
        "Since this is a multiclass classification problem (\"multiclass\" means we have more than two options we're choosing from), we can get a quick estimate from the [accuracy_score()](https://scikit-learn.org/stable/modules/generated/sklearn.metrics.accuracy_score.html#sklearn.metrics.accuracy_score) function, which tells us the percent of correct predictions made by the model."
      ]
    },
    {
      "cell_type": "code",
      "execution_count": null,
      "metadata": {
        "id": "ZndOJI6XoP46"
      },
      "outputs": [],
      "source": [
        "# Import the accuracy_score function and use it to determine\n",
        "# how accurate the models predictions were for our test data\n"
      ]
    },
    {
      "cell_type": "markdown",
      "metadata": {
        "id": "VZh218e_kuqw"
      },
      "source": [
        "#### Confusion Matrix\n",
        "While the accuracy score tells us a little about the model's performance, it doesn't tell us much.\n",
        "\n",
        "For example, we know how often the model was correct, but we don't know when it was wrong or why.\n",
        "\n",
        "We can get this information from the [confusion_matrix](https://scikit-learn.org/stable/modules/generated/sklearn.metrics.confusion_matrix.html#sklearn.metrics.confusion_matrix) function."
      ]
    },
    {
      "cell_type": "code",
      "execution_count": null,
      "metadata": {
        "id": "oqyBO7NRpjjB"
      },
      "outputs": [],
      "source": [
        "# Import the confusion_matrix function and use it to generate a confusion\n",
        "# matrix of our model results.\n"
      ]
    },
    {
      "cell_type": "markdown",
      "metadata": {
        "id": "A_bfx9e7lv9r"
      },
      "source": [
        "#### Confusion Matrix Plot\n",
        "\n",
        "It's easier to see the results of the confusion matrix if we plot the results. One way to do this is with Seaborn's [heatmap](https://seaborn.pydata.org/generated/seaborn.heatmap.html) function.\n",
        "\n",
        "This function works a little bit differently than the others. It takes as parameters your model instance, and then options for making the chart display the way you want, and outputs a confusion matrix showing how well the model did in predicting the target values.\n",
        "\n",
        "You'll notice that in many cases (including this one), the numbers in the confusion matrix will be the same as the results you see from the confusion_matrix() function above, but the plot makes it easier to interpret the results.\n",
        "\n",
        "When using the confusion matrix, you may find that the default color mapping is difficult to read. The \"Blues\" mapping is a popular choice."
      ]
    },
    {
      "cell_type": "code",
      "execution_count": null,
      "metadata": {
        "id": "6CuFoRyHp6fu"
      },
      "outputs": [],
      "source": [
        "# Create a Seaborn heatmap\n",
        "\n"
      ]
    },
    {
      "cell_type": "markdown",
      "metadata": {
        "id": "IyrxIM5ZuBsJ"
      },
      "source": [
        "## 🌟 Above and Beyond 🌟\n",
        "\n",
        "Once you've complted the basics, try to complete one or more of the following tasks:\n",
        "\n",
        "1. See if you can get better results from your model through some data preprocessing, such as normalization.\n",
        "\n",
        "2. Often, using too many features can give poor results. Can you get better performance using a subset of the features instead of all four?\n",
        "\n",
        "3. Are there other ways you could visualize your model results?"
      ]
    }
  ],
  "metadata": {
    "colab": {
      "name": "DataExploration_04.ipynb",
      "provenance": [],
      "toc_visible": true,
      "include_colab_link": true
    },
    "kernelspec": {
      "display_name": "Python 3",
      "name": "python3"
    }
  },
  "nbformat": 4,
  "nbformat_minor": 0
}